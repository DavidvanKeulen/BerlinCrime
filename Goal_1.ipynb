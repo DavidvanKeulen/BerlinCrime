{
 "cells": [
  {
   "cell_type": "code",
   "execution_count": 3,
   "metadata": {},
   "outputs": [],
   "source": [
    "import pandas as pd"
   ]
  },
  {
   "cell_type": "code",
   "execution_count": 4,
   "metadata": {},
   "outputs": [],
   "source": [
    "df = pd.read_csv('Berlin_crimes.csv')"
   ]
  },
  {
   "cell_type": "code",
   "execution_count": 5,
   "metadata": {},
   "outputs": [
    {
     "name": "stdout",
     "output_type": "stream",
     "text": [
      "Treptow-Köpenick              168\n",
      "Charlottenburg-Wilmersdorf    144\n",
      "Pankow                        136\n",
      "Lichtenberg                   112\n",
      "Reinickendorf                  96\n",
      "Mitte                          88\n",
      "Neukölln                       88\n",
      "Marzahn-Hellersdorf            80\n",
      "Spandau                        80\n",
      "Steglitz-Zehlendorf            72\n",
      "Friedrichshain-Kreuzberg       72\n",
      "Tempelhof-Schöneberg           64\n",
      "Name: District, dtype: int64\n"
     ]
    }
   ],
   "source": [
    "# most crimes are committed in Treptow-köpernick\n",
    "CrimeCum = df['District'].value_counts()\n",
    "print(CrimeCum)"
   ]
  },
  {
   "cell_type": "code",
   "execution_count": 6,
   "metadata": {},
   "outputs": [
    {
     "data": {
      "text/plain": [
       "[['Treptow-Köpenick', 6.195764015150118],\n",
       " ['Charlottenburg-Wilmersdorf', 4.206442868326653],\n",
       " ['Pankow', 3.335254374455875],\n",
       " ['Lichtenberg', 3.8428283216447303],\n",
       " ['Reinickendorf', 3.619568291073617],\n",
       " ['Mitte', 2.2906406505419445],\n",
       " ['Neukölln', 2.6691659766265987],\n",
       " ['Marzahn-Hellersdorf', 2.978983273008922],\n",
       " ['Spandau', 3.278728836829961],\n",
       " ['Steglitz-Zehlendorf', 2.332459740773016],\n",
       " ['Friedrichshain-Kreuzberg', 2.484797868595606],\n",
       " ['Tempelhof-Schöneberg', 1.8200225227787195]]"
      ]
     },
     "execution_count": 6,
     "metadata": {},
     "output_type": "execute_result"
    }
   ],
   "source": [
    "# Inhabitants source: https://de.wikipedia.org/wiki/Verwaltungsgliederung_Berlins\n",
    "# Treptow-Köpernick has the highest crime rate at 6.20 crimes per 10.000 inhabitants\n",
    "inhab = {'Mitte' : 384172,\n",
    "        'Friedrichshain-Kreuzberg' : 289762,\n",
    "        'Pankow' : 407765,\n",
    "        'Charlottenburg-Wilmersdorf' : 342332,\n",
    "        'Spandau' : 243997,\n",
    "        'Steglitz-Zehlendorf' : 308687,\n",
    "        'Tempelhof-Schöneberg' : 351644,\n",
    "        'Neukölln' : 329691,\n",
    "        'Treptow-Köpenick' : 271153,\n",
    "        'Marzahn-Hellersdorf' : 268548,\n",
    "        'Lichtenberg' : 291452,\n",
    "        'Reinickendorf' : 265225}\n",
    "\n",
    "[[CrimeCum.keys()[i], 10000 * CrimeCum[i] / inhab[CrimeCum.keys()[i]]] for i in range(len(CrimeCum))]"
   ]
  }
 ],
 "metadata": {
  "kernelspec": {
   "display_name": "Python 3",
   "language": "python",
   "name": "python3"
  },
  "language_info": {
   "codemirror_mode": {
    "name": "ipython",
    "version": 3
   },
   "file_extension": ".py",
   "mimetype": "text/x-python",
   "name": "python",
   "nbconvert_exporter": "python",
   "pygments_lexer": "ipython3",
   "version": "3.8.3"
  }
 },
 "nbformat": 4,
 "nbformat_minor": 4
}
